{
 "cells": [
  {
   "cell_type": "markdown",
   "metadata": {},
   "source": [
    "## 1. Import Libraries"
   ]
  },
  {
   "cell_type": "code",
   "execution_count": 1,
   "metadata": {},
   "outputs": [],
   "source": [
    "import re\n",
    "import nltk\n",
    "import requests\n",
    "import warnings\n",
    "import numpy as np\n",
    "import contractions\n",
    "import pandas as pd\n",
    "import seaborn as sns\n",
    "import matplotlib.pyplot as plt\n",
    "from tqdm.notebook import tqdm\n",
    "from wordcloud import WordCloud\n",
    "from joblib import Parallel, delayed\n",
    "from collections import defaultdict\n",
    "from sklearn.model_selection import RandomizedSearchCV, GridSearchCV\n",
    "import plotly.graph_objects as go\n",
    "from plotly.offline import download_plotlyjs, init_notebook_mode, plot, iplot\n",
    "\n",
    "plt.style.use('fivethirtyeight')\n",
    "warnings.filterwarnings('ignore')"
   ]
  },
  {
   "cell_type": "markdown",
   "metadata": {},
   "source": [
    "## 2. Import Data"
   ]
  },
  {
   "cell_type": "code",
   "execution_count": 2,
   "metadata": {},
   "outputs": [],
   "source": [
    "## columns present in the dataset\n",
    "columns = ['text', 'location', 'tone', 'date', 'ID', 'URL', 'MBFC_factuality_label', 'URL.1', \n",
    "           'MBFC_factuality_label.1', 'URL_to_MBFC_page', 'source_name', 'MBFC_notes_about_source', \n",
    "           'MBFC_bias_label', 'source_URL', 'propaganda_label']"
   ]
  },
  {
   "cell_type": "code",
   "execution_count": 3,
   "metadata": {},
   "outputs": [
    {
     "name": "stdout",
     "output_type": "stream",
     "text": [
      "train shape : (35986, 15)\n"
     ]
    }
   ],
   "source": [
    "## load data\n",
    "df_train = pd.read_csv('proppy_1.0.train.tsv', names=columns, sep='\\t')\n",
    "print(f\"train shape : {df_train.shape}\")"
   ]
  },
  {
   "cell_type": "code",
   "execution_count": 4,
   "metadata": {},
   "outputs": [
    {
     "name": "stdout",
     "output_type": "stream",
     "text": [
      "validrain shape : (5125, 15)\n"
     ]
    }
   ],
   "source": [
    "df_valid = pd.read_csv('proppy_1.0.dev.tsv', names=columns, sep='\\t')\n",
    "print(f\"validrain shape : {df_valid.shape}\")"
   ]
  },
  {
   "cell_type": "code",
   "execution_count": 5,
   "metadata": {},
   "outputs": [
    {
     "name": "stdout",
     "output_type": "stream",
     "text": [
      "validrain shape : (5125, 15)\n"
     ]
    }
   ],
   "source": [
    "df_test = pd.read_csv('proppy_1.0.test.tsv', names=columns, sep='\\t')\n",
    "print(f\"validrain shape : {df_valid.shape}\")"
   ]
  },
  {
   "cell_type": "code",
   "execution_count": 6,
   "metadata": {},
   "outputs": [
    {
     "data": {
      "text/html": [
       "<div>\n",
       "<style scoped>\n",
       "    .dataframe tbody tr th:only-of-type {\n",
       "        vertical-align: middle;\n",
       "    }\n",
       "\n",
       "    .dataframe tbody tr th {\n",
       "        vertical-align: top;\n",
       "    }\n",
       "\n",
       "    .dataframe thead th {\n",
       "        text-align: right;\n",
       "    }\n",
       "</style>\n",
       "<table border=\"1\" class=\"dataframe\">\n",
       "  <thead>\n",
       "    <tr style=\"text-align: right;\">\n",
       "      <th></th>\n",
       "      <th>text</th>\n",
       "      <th>location</th>\n",
       "      <th>tone</th>\n",
       "      <th>date</th>\n",
       "      <th>ID</th>\n",
       "      <th>URL</th>\n",
       "      <th>MBFC_factuality_label</th>\n",
       "      <th>URL.1</th>\n",
       "      <th>MBFC_factuality_label.1</th>\n",
       "      <th>URL_to_MBFC_page</th>\n",
       "      <th>source_name</th>\n",
       "      <th>MBFC_notes_about_source</th>\n",
       "      <th>MBFC_bias_label</th>\n",
       "      <th>source_URL</th>\n",
       "      <th>propaganda_label</th>\n",
       "    </tr>\n",
       "  </thead>\n",
       "  <tbody>\n",
       "    <tr>\n",
       "      <th>17022</th>\n",
       "      <td>Students at Navajo Heights Elementary School w...</td>\n",
       "      <td>Oak Park, Illinois, United States</td>\n",
       "      <td>-1.901141</td>\n",
       "      <td>2018-02-05</td>\n",
       "      <td>728389829</td>\n",
       "      <td>http://www.chicagotribune.com/suburbs/daily-so...</td>\n",
       "      <td>Howard Ludwig</td>\n",
       "      <td>Palos Heights elementary school closes after fire</td>\n",
       "      <td>HIGH</td>\n",
       "      <td>http://mediabiasfactcheck.com/chicago-tribune/</td>\n",
       "      <td>Chicago Tribune</td>\n",
       "      <td>NaN</td>\n",
       "      <td>NIL</td>\n",
       "      <td>chicagotribune.com</td>\n",
       "      <td>-1</td>\n",
       "    </tr>\n",
       "    <tr>\n",
       "      <th>35274</th>\n",
       "      <td>On Tuesday, the Federal Bureau of Investigatio...</td>\n",
       "      <td>Denmark</td>\n",
       "      <td>-3.555556</td>\n",
       "      <td>2017-10-26</td>\n",
       "      <td>701130166</td>\n",
       "      <td>https://freedomoutpost.com/fbi-dumps-documents...</td>\n",
       "      <td>The Common Constitutionalist</td>\n",
       "      <td>FBI Dumps Documents On Sandy Hook - Guess Who ...</td>\n",
       "      <td>Extreme Right, Propaganda, Conspiracy</td>\n",
       "      <td>http://mediabiasfactcheck.com/freedom-outpost/</td>\n",
       "      <td>Freedom Outpost</td>\n",
       "      <td>Notes (D. Van Zandt): Freedom Outpost is an ex...</td>\n",
       "      <td>NIL</td>\n",
       "      <td>freedomoutpost.com</td>\n",
       "      <td>1</td>\n",
       "    </tr>\n",
       "  </tbody>\n",
       "</table>\n",
       "</div>"
      ],
      "text/plain": [
       "                                                    text  \\\n",
       "17022  Students at Navajo Heights Elementary School w...   \n",
       "35274  On Tuesday, the Federal Bureau of Investigatio...   \n",
       "\n",
       "                                location      tone        date         ID  \\\n",
       "17022  Oak Park, Illinois, United States -1.901141  2018-02-05  728389829   \n",
       "35274                            Denmark -3.555556  2017-10-26  701130166   \n",
       "\n",
       "                                                     URL  \\\n",
       "17022  http://www.chicagotribune.com/suburbs/daily-so...   \n",
       "35274  https://freedomoutpost.com/fbi-dumps-documents...   \n",
       "\n",
       "              MBFC_factuality_label  \\\n",
       "17022                 Howard Ludwig   \n",
       "35274  The Common Constitutionalist   \n",
       "\n",
       "                                                   URL.1  \\\n",
       "17022  Palos Heights elementary school closes after fire   \n",
       "35274  FBI Dumps Documents On Sandy Hook - Guess Who ...   \n",
       "\n",
       "                     MBFC_factuality_label.1  \\\n",
       "17022                                   HIGH   \n",
       "35274  Extreme Right, Propaganda, Conspiracy   \n",
       "\n",
       "                                     URL_to_MBFC_page      source_name  \\\n",
       "17022  http://mediabiasfactcheck.com/chicago-tribune/  Chicago Tribune   \n",
       "35274  http://mediabiasfactcheck.com/freedom-outpost/  Freedom Outpost   \n",
       "\n",
       "                                 MBFC_notes_about_source MBFC_bias_label  \\\n",
       "17022                                                NaN             NIL   \n",
       "35274  Notes (D. Van Zandt): Freedom Outpost is an ex...             NIL   \n",
       "\n",
       "               source_URL  propaganda_label  \n",
       "17022  chicagotribune.com                -1  \n",
       "35274  freedomoutpost.com                 1  "
      ]
     },
     "execution_count": 6,
     "metadata": {},
     "output_type": "execute_result"
    }
   ],
   "source": [
    "df_train.sample(2)"
   ]
  },
  {
   "cell_type": "markdown",
   "metadata": {},
   "source": [
    "*Both train and test dataset has 15 columns/features out of which we need only two features for model building, text and propaganda label.*"
   ]
  },
  {
   "cell_type": "markdown",
   "metadata": {},
   "source": [
    "## 3. Data Cleaning"
   ]
  },
  {
   "cell_type": "markdown",
   "metadata": {},
   "source": [
    "### 3.1 Null Values"
   ]
  },
  {
   "cell_type": "code",
   "execution_count": 7,
   "metadata": {},
   "outputs": [
    {
     "data": {
      "text/plain": [
       "text                          0\n",
       "location                      0\n",
       "tone                          0\n",
       "date                          0\n",
       "ID                            0\n",
       "URL                           0\n",
       "MBFC_factuality_label      9084\n",
       "URL.1                         0\n",
       "MBFC_factuality_label.1       0\n",
       "URL_to_MBFC_page              0\n",
       "source_name                   0\n",
       "MBFC_notes_about_source    6007\n",
       "MBFC_bias_label               0\n",
       "source_URL                    0\n",
       "propaganda_label              0\n",
       "dtype: int64"
      ]
     },
     "execution_count": 7,
     "metadata": {},
     "output_type": "execute_result"
    }
   ],
   "source": [
    "df_train.isnull().sum()"
   ]
  },
  {
   "cell_type": "code",
   "execution_count": 8,
   "metadata": {},
   "outputs": [
    {
     "data": {
      "text/plain": [
       "text                          0\n",
       "location                      0\n",
       "tone                          0\n",
       "date                          0\n",
       "ID                            0\n",
       "URL                           0\n",
       "MBFC_factuality_label      1674\n",
       "URL.1                         0\n",
       "MBFC_factuality_label.1       0\n",
       "URL_to_MBFC_page              0\n",
       "source_name                   0\n",
       "MBFC_notes_about_source     612\n",
       "MBFC_bias_label               0\n",
       "source_URL                    0\n",
       "propaganda_label              0\n",
       "dtype: int64"
      ]
     },
     "execution_count": 8,
     "metadata": {},
     "output_type": "execute_result"
    }
   ],
   "source": [
    "df_valid.isnull().sum()"
   ]
  },
  {
   "cell_type": "code",
   "execution_count": 9,
   "metadata": {},
   "outputs": [
    {
     "data": {
      "text/plain": [
       "text                          0\n",
       "location                      0\n",
       "tone                          0\n",
       "date                          0\n",
       "ID                            0\n",
       "URL                           0\n",
       "MBFC_factuality_label      3525\n",
       "URL.1                         0\n",
       "MBFC_factuality_label.1       0\n",
       "URL_to_MBFC_page              0\n",
       "source_name                   0\n",
       "MBFC_notes_about_source    1198\n",
       "MBFC_bias_label               0\n",
       "source_URL                    0\n",
       "propaganda_label              0\n",
       "dtype: int64"
      ]
     },
     "execution_count": 9,
     "metadata": {},
     "output_type": "execute_result"
    }
   ],
   "source": [
    "df_test.isnull().sum()"
   ]
  },
  {
   "cell_type": "markdown",
   "metadata": {},
   "source": [
    "### 3.2 Duplicate Rows"
   ]
  },
  {
   "cell_type": "code",
   "execution_count": 10,
   "metadata": {},
   "outputs": [
    {
     "data": {
      "text/plain": [
       "0"
      ]
     },
     "execution_count": 10,
     "metadata": {},
     "output_type": "execute_result"
    }
   ],
   "source": [
    "df_train[['text', 'propaganda_label']].duplicated().sum()"
   ]
  },
  {
   "cell_type": "code",
   "execution_count": 11,
   "metadata": {},
   "outputs": [
    {
     "data": {
      "text/plain": [
       "0"
      ]
     },
     "execution_count": 11,
     "metadata": {},
     "output_type": "execute_result"
    }
   ],
   "source": [
    "df_valid[['text', 'propaganda_label']].duplicated().sum()"
   ]
  },
  {
   "cell_type": "code",
   "execution_count": 12,
   "metadata": {},
   "outputs": [
    {
     "data": {
      "text/plain": [
       "0"
      ]
     },
     "execution_count": 12,
     "metadata": {},
     "output_type": "execute_result"
    }
   ],
   "source": [
    "df_test[['text', 'propaganda_label']].duplicated().sum()"
   ]
  },
  {
   "cell_type": "markdown",
   "metadata": {},
   "source": [
    "*There is no null values or duplicate rows present in the training and validation dataset.*"
   ]
  },
  {
   "cell_type": "markdown",
   "metadata": {},
   "source": [
    "### 3.3 Removing Unwanted Columns"
   ]
  },
  {
   "cell_type": "code",
   "execution_count": 13,
   "metadata": {},
   "outputs": [
    {
     "name": "stdout",
     "output_type": "stream",
     "text": [
      "new train shape : (35986, 2)\n",
      "new validation shape : (5125, 2)\n",
      "new test shape : (5125, 2)\n"
     ]
    }
   ],
   "source": [
    "df_train = df_train[['text', 'propaganda_label']]\n",
    "print(f\"new train shape : {df_train.shape}\")\n",
    "\n",
    "df_valid = df_valid[['text', 'propaganda_label']]\n",
    "print(f\"new validation shape : {df_valid.shape}\")\n",
    "\n",
    "df_test= df_test[['text', 'propaganda_label']]\n",
    "print(f\"new test shape : {df_valid.shape}\")"
   ]
  },
  {
   "cell_type": "markdown",
   "metadata": {},
   "source": [
    "*Removing all other features and keeping only text and label for further analysis.*"
   ]
  },
  {
   "cell_type": "markdown",
   "metadata": {},
   "source": [
    "## 4. Output Analysis"
   ]
  },
  {
   "cell_type": "markdown",
   "metadata": {},
   "source": [
    "### Target Variable"
   ]
  },
  {
   "cell_type": "code",
   "execution_count": 14,
   "metadata": {},
   "outputs": [
    {
     "data": {
      "image/png": "[encoded data removed]",
      "text/plain": [
       "<Figure size 504x504 with 1 Axes>"
      ]
     },
     "metadata": {},
     "output_type": "display_data"
    }
   ],
   "source": [
    "data = df_train['propaganda_label'].map({-1 : 'No', 1 : 'Yes'}).value_counts()\n",
    "data.plot(kind = 'pie',\n",
    "          autopct = '%.2f%%',\n",
    "          colors = ['skyblue', 'teal'],\n",
    "          figsize=(7,7),\n",
    "          startangle = 60,\n",
    "          title = \"Propaganda Output Label Analysis - Training Data\")\n",
    "plt.show()"
   ]
  },
  {
   "cell_type": "code",
   "execution_count": 15,
   "metadata": {},
   "outputs": [
    {
     "data": {
      "image/png": "[encoded data removed]",
      "text/plain": [
       "<Figure size 504x504 with 1 Axes>"
      ]
     },
     "metadata": {},
     "output_type": "display_data"
    }
   ],
   "source": [
    "data = df_valid['propaganda_label'].map({-1 : 'No', 1 : 'Yes'}).value_counts()\n",
    "data.plot(kind = 'pie',\n",
    "          autopct = '%.2f%%',\n",
    "          colors = ['skyblue', 'teal'],\n",
    "          figsize=(7,7),\n",
    "          startangle = 60,\n",
    "          title = \"Propaganda Output Label Analysis - Validation Data\")\n",
    "plt.show()"
   ]
  },
  {
   "cell_type": "markdown",
   "metadata": {},
   "source": [
    "*The output class is highly imbalance with 11.22% of propaganda news present in the dataset. For both training and validation data, the class output ratio is same.*"
   ]
  },
  {
   "cell_type": "markdown",
   "metadata": {},
   "source": [
    "## 5. Text Pre-processing"
   ]
  },
  {
   "cell_type": "code",
   "execution_count": 16,
   "metadata": {},
   "outputs": [],
   "source": [
    "def text_preprocessing(text, stopword_list, stemming):\n",
    "    \"\"\"\n",
    "    This function performs text preprocessing on a given review.\n",
    "    Input:\n",
    "        text (string)         : a string of sentences\n",
    "        stopwords(list)       : a list of stopwords\n",
    "        stemming(object)      : stemming object to apply on words\n",
    "    Output:\n",
    "        preprop_text (string) : a string of formated sentences\n",
    "    \"\"\"\n",
    "    preprop_text = text.replace(r\"won’t\", \"will not\").replace(r\"can’t\", \"can not\")\\\n",
    "                       .replace(r\"n’t\", \" not\").replace(r\"’re\", \" are\")\\\n",
    "                       .replace(\"’s\", \" is\").replace(r\"'d\", \" would\")\\\n",
    "                       .replace(r\"’ll\", \" will\").replace(r\"’t\", \" not\")\\\n",
    "                       .replace(r\"’ve\", \" have\").replace(r\"’m\", \" am\")\n",
    "    preprop_text = re.sub(r'[^a-zA-Z ]+', ' ', preprop_text)\n",
    "    preprop_text = preprop_text.lower()\n",
    "    preprop_text = \" \".join(word for word in preprop_text.split() if word not in stopword_list)\n",
    "    preprop_text = \" \".join(stemming.stem(val) for val in preprop_text.split())\n",
    "    preprop_text_final = preprop_text.strip()\n",
    "    return (preprop_text_final, preprop_text)"
   ]
  },
  {
   "cell_type": "code",
   "execution_count": 17,
   "metadata": {},
   "outputs": [],
   "source": [
    "## the below code is taken from the given source\n",
    "## We are using a manually uploaded text file of stopwords to remove from the text\n",
    "\n",
    "## https://gist.github.com/sebleier/554280\n",
    "stopword_path = \"https://gist.githubusercontent.com/rg089/35e00abf8941d72d419224cfd5b5925d/raw/12d899b70156fd0041fa9778d657330b024b959c/stopwords.txt\"\n",
    "stopwords = requests.get(stopword_path).content\n",
    "stopword_list = list(set(stopwords.decode().splitlines()))\n",
    "\n",
    "## applying porter stemming\n",
    "ps = nltk.stem.PorterStemmer()"
   ]
  },
  {
   "cell_type": "code",
   "execution_count": 18,
   "metadata": {},
   "outputs": [
    {
     "data": {
      "application/vnd.jupyter.widget-view+json": {
       "model_id": "65361773e67846a69317d7c739eb94ac",
       "version_major": 2,
       "version_minor": 0
      },
      "text/plain": [
       "  0%|          | 0/35986 [00:00<?, ?it/s]"
      ]
     },
     "metadata": {},
     "output_type": "display_data"
    },
    {
     "data": {
      "application/vnd.jupyter.widget-view+json": {
       "model_id": "c3b30db00cfe458fae69aac0a833c663",
       "version_major": 2,
       "version_minor": 0
      },
      "text/plain": [
       "  0%|          | 0/5125 [00:00<?, ?it/s]"
      ]
     },
     "metadata": {},
     "output_type": "display_data"
    }
   ],
   "source": [
    "## applying preprocessing to all text\n",
    "text_train = Parallel(n_jobs=-1)(delayed(text_preprocessing)\n",
    "                                                   (text, stopword_list, ps)\n",
    "                                                   for text in tqdm(df_train['text'].values))\n",
    "\n",
    "text_valid = Parallel(n_jobs=-1)(delayed(text_preprocessing)\n",
    "                                                   (text, stopword_list, ps)\n",
    "                                                   for text in tqdm(df_valid['text'].values))"
   ]
  },
  {
   "cell_type": "code",
   "execution_count": 19,
   "metadata": {},
   "outputs": [],
   "source": [
    "## mapping to the original dataset\n",
    "df_train['text2'] = [text[0] for text in text_train]\n",
    "df_train['text1'] = [text[1] for text in text_train]\n",
    "\n",
    "df_valid['text2'] = [text[0] for text in text_valid]\n",
    "df_valid['text1'] = [text[1] for text in text_valid]"
   ]
  },
  {
   "cell_type": "code",
   "execution_count": 20,
   "metadata": {
    "scrolled": true
   },
   "outputs": [
    {
     "data": {
      "text/plain": [
       "'Et tu, Rhody?  A recent editorial in the Providence Journal cataloged everything it could find wrong with Connecticut and ended with this suggestion: “Gov. Gina Raimondo should see if at least some of those jobs could come to Rhode Island. It is certainly less risky than the Nutmeg State.”  We beg your pardon.  The state with world-famous pension problems and persistent economic issues of its own is “less risky”?  The Journal itself reported just a few weeks ago on Rhode Island’s own significant economic problems, which in many ways reflect Connecticut’s.  Rhode Island enjoys a legacy of corruption that not even Connecticut can match. The ProJo won a Pulitzer Prize in 1994 for uncovering widespread corruption within its own court system.  What, exactly, is to be gained from moving to Rhode Island?  Like Connecticut, Rhode Island has an income tax and an estate tax with comparable rates. (Forbes magazine listed it as one of the states “Where Not To Die.” Connecticut made the list, too.)  Connecticut and Rhode Island’s interdependence has been limited, with the exception of the interstate economy created by Electric Boat in Groton. There have been no border wars and very little bloodshed. A few jokes about Rhode Island’s size, maybe, but if we’re being honest, Connecticut doesn’t really have a lot going on in that department either.  A little interstate competition is fine, but if Connecticut suffers, so does Rhode Island — and all of New England, for that matter.  Connecticut is losing residents at a troubling rate, but Rhode Island has an outmigration problem of its own. From 2015 to 2016, the Ocean State experienced a net loss of about 2,000 tax filers, who took with them more than $182 million in adjusted gross income. The top destination states for people who fled Rhode Island were Massachusetts, Florida and — wait for it — Connecticut.  Connecticut residents moved to Rhode Island as well, of course. But Connecticut’s population is 3½ times as big as Rhode Island’s. So the 1,175 tax filers who left Rhode Island for Connecticut represent a far larger portion of the Ocean State than the 1,220 who moved from Connecticut to Rhode Island. If any state should be concerned about losing residents to its neighbor, it’s Rhode Island.  But we don’t want to poach Rhode Islanders. We’d rather celebrate Electric Boat’s growth and the burgeoning workforce that supports both states. We’d rather cheer CVS for buying Aetna and keeping it in Hartford than try to woo CVS from Woonsocket.  A booming Connecticut, especially in the insurance and defense industries, only helps Rhode Island.  As Electric Boat — headquartered in Connecticut, might we emphasize — grows over the next decade, the effect on Little Rhody will be profound, as the ProJo’s editorial board pointed out. A thriving border economy helps both states as supplier chains develop and as feeder businesses bloom.  But for the same reasons that the stain of a Hartford bankruptcy would spread to the suburbs, if Connecticut becomes an economic wasteland, the effects would be felt across New England.  If Rhode Island and Connecticut want to find a way out of the muck, far better for them to work together.  Yes, Connecticut can learn from Rhode Island. Connecticut’s pension problems are similar to those that threatened to swamp Rhode Island, but there are key differences, especially in that Connecticut’s pensions are contractual, where in Rhode Island, they were set by state statute.  Rhode Island made some tough choices and anticipated a legal battle to solve its problems. Connecticut leaders might have to find the stomach for the same type of strategy.  Connecticut and Rhode Island have a lot in common, including language. We both drive around the rotary to get a grinder at Cumbie’s, for example. And we are glad that Rhode Island has made progress on its pension issues.  But that’s no reason to try to poach a few residents. A regional approach would be much wiser.'"
      ]
     },
     "execution_count": 20,
     "metadata": {},
     "output_type": "execute_result"
    }
   ],
   "source": [
    "## checking for orginal and preprocessed text\n",
    "df_train['text'].values[0]"
   ]
  },
  {
   "cell_type": "code",
   "execution_count": 21,
   "metadata": {
    "scrolled": false
   },
   "outputs": [
    {
     "data": {
      "text/plain": [
       "'tu rhodi editori provid journal catalog wrong connecticut end suggest gov gina raimondo job rhode island riski nutmeg state beg pardon state famou pension problem persist econom issu riski journal report week ago rhode island econom problem way reflect connecticut rhode island enjoy legaci corrupt connecticut match projo pulitz prize uncov widespread corrupt court gain move rhode island connecticut rhode island incom tax estat tax compar rate forb magazin list state die connecticut list connecticut rhode island interdepend limit except interst economi creat electr boat groton border war bloodsh joke rhode island size honest connecticut lot depart interst competit fine connecticut suffer rhode island england matter connecticut lose resid troubl rate rhode island outmigr problem ocean state experienc net loss tax filer adjust gross incom destin state peopl fled rhode island massachusett florida wait connecticut connecticut resid move rhode island connecticut popul time big rhode island tax filer left rhode island connecticut repres larger portion ocean state move connecticut rhode island state concern lose resid neighbor rhode island poach rhode island celebr electr boat growth burgeon workforc support state cheer cv buy aetna keep hartford woo cv woonsocket boom connecticut insur defens industri help rhode island electr boat headquart connecticut emphas grow decad rhodi profound projo editori board point thrive border economi help state supplier chain develop feeder busi bloom reason stain hartford bankruptci spread suburb connecticut econom wasteland effect felt england rhode island connecticut muck work connecticut learn rhode island connecticut pension problem threaten swamp rhode island key differ connecticut pension contractu rhode island set state statut rhode island tough choic anticip legal battl solv problem connecticut leader stomach type strategi connecticut rhode island lot common includ languag drive rotari grinder cumbi glad rhode island progress pension issu reason poach resid region approach wiser'"
      ]
     },
     "execution_count": 21,
     "metadata": {},
     "output_type": "execute_result"
    }
   ],
   "source": [
    "df_train['text2'].values[0]"
   ]
  },
  {
   "cell_type": "code",
   "execution_count": null,
   "metadata": {},
   "outputs": [],
   "source": []
  }
 ],
 "metadata": {
  "kernelspec": {
   "display_name": "Python 3",
   "language": "python",
   "name": "python3"
  },
  "language_info": {
   "codemirror_mode": {
    "name": "ipython",
    "version": 3
   },
   "file_extension": ".py",
   "mimetype": "text/x-python",
   "name": "python",
   "nbconvert_exporter": "python",
   "pygments_lexer": "ipython3",
   "version": "3.8.5"
  }
 },
 "nbformat": 4,
 "nbformat_minor": 5
}
